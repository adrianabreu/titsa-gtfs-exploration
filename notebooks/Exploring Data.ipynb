{
 "cells": [
  {
   "cell_type": "code",
   "execution_count": 79,
   "id": "eb3019e0-4610-4c57-9113-388bb3f6ebc7",
   "metadata": {},
   "outputs": [],
   "source": [
    "from pyspark.sql.functions import col, acos, cos, sin, lit, radians, lag, dense_rank\n",
    "from pyspark.sql import SparkSession, DataFrame\n",
    "from pyspark.sql.window import Window"
   ]
  },
  {
   "cell_type": "code",
   "execution_count": 15,
   "id": "295b74ae-b159-496b-87ac-402225951fa6",
   "metadata": {},
   "outputs": [],
   "source": [
    "def read_file(path: str, spark: SparkSession) -> DataFrame:\n",
    "    return spark.read.csv(path, header=True)"
   ]
  },
  {
   "cell_type": "code",
   "execution_count": 16,
   "id": "00267b3e-8a9e-4eea-8b8e-b73b18f61d80",
   "metadata": {},
   "outputs": [],
   "source": [
    "spark =  SparkSession.builder \\\n",
    "    .master(\"local\") \\\n",
    "    .appName(\"Titsa Explorer\") \\\n",
    "    .getOrCreate()"
   ]
  },
  {
   "cell_type": "code",
   "execution_count": 25,
   "id": "5e972d2f-cab4-485d-bef1-83a2ab42dcfd",
   "metadata": {},
   "outputs": [],
   "source": [
    "calendar = read_file('../data/calendar_dates.txt', spark)"
   ]
  },
  {
   "cell_type": "code",
   "execution_count": 24,
   "id": "ba234ff9-e807-4feb-b567-86aab012a76e",
   "metadata": {},
   "outputs": [],
   "source": [
    "stop_times = read_file('../data/stop_times.txt', spark)"
   ]
  },
  {
   "cell_type": "code",
   "execution_count": 17,
   "id": "8b3b6fd9-1e6f-454d-8f34-139b9a69276d",
   "metadata": {},
   "outputs": [],
   "source": [
    "stops = read_file('../data/stops.txt', spark)"
   ]
  },
  {
   "cell_type": "code",
   "execution_count": 22,
   "id": "8f027c64-a89f-4742-b707-03dcebb82508",
   "metadata": {},
   "outputs": [],
   "source": [
    "trips = read_file('../data/trips.txt', spark)"
   ]
  },
  {
   "cell_type": "code",
   "execution_count": 23,
   "id": "90fbec27-954e-4973-8f41-c918fe1f11b7",
   "metadata": {},
   "outputs": [],
   "source": [
    "routes = read_file('../data/routes.txt', spark)"
   ]
  },
  {
   "cell_type": "code",
   "execution_count": 29,
   "id": "e868d54f-2f02-47fc-a550-79f85b1629dd",
   "metadata": {},
   "outputs": [],
   "source": [
    "active_services = calendar.filter(col('date') == \"20220318\").select(\"service_id\")"
   ]
  },
  {
   "cell_type": "code",
   "execution_count": 52,
   "id": "7b3f577d-545b-4098-96e1-35f7a593d0aa",
   "metadata": {},
   "outputs": [],
   "source": [
    "routes_related_stops = stop_times\\\n",
    ".join(trips, ['trip_id'])\\\n",
    ".join(active_services, ['service_id'])\\\n",
    ".join(routes, ['route_id'])\\\n",
    ".select(\n",
    "    \"trip_id\",\n",
    "    \"route_short_name\",\n",
    "    \"stop_id\",\n",
    "    \"stop_sequence\"\n",
    ").distinct()"
   ]
  },
  {
   "cell_type": "code",
   "execution_count": 53,
   "id": "11132cf8-4baf-41d9-8653-4bd7d487f3a2",
   "metadata": {},
   "outputs": [],
   "source": [
    "def harvesine_distance(long_x, lat_x, long_y, lat_y):\n",
    "    return acos(\n",
    "        sin(radians(lat_x)) * sin(radians(lat_y)) + \n",
    "        cos(radians(lat_x)) * cos(radians(lat_y)) * \n",
    "            cos(radians(long_x) - radians(long_y))\n",
    "    ) * lit(6371.0)"
   ]
  },
  {
   "cell_type": "code",
   "execution_count": 74,
   "id": "00ea1fda-f31a-4ace-be10-0f8a3dbddc2d",
   "metadata": {},
   "outputs": [],
   "source": [
    "def calculate_distance_to_previous_stop(df: DataFrame) -> DataFrame:\n",
    "    w = Window.partitionBy(\"trip_id\").orderBy(\"stop_sequence\")\n",
    "    \n",
    "    return df.withColumn(\"harvesine_distance\", harvesine_distance(\n",
    "        \"stop_lon\",\n",
    "        \"stop_lat\",\n",
    "        lag(\"stop_lon\", 1).over(w),\n",
    "        lag(\"stop_lat\", 1).over(w)\n",
    "    ))\\\n",
    "    .withColumn(\"prev_stop_id\", lag(\"stop_id\", 1).over(w))\\\n",
    "    .withColumn(\"prev_stop_name\", lag(\"stop_name\", 1).over(w))"
   ]
  },
  {
   "cell_type": "code",
   "execution_count": 84,
   "id": "a2641722-aa43-4f17-b8c9-5b3e66060a77",
   "metadata": {},
   "outputs": [],
   "source": [
    "ranked_results = calculate_distance_to_previous_stop(routes_related_stops\\\n",
    ".join(stops, ['stop_id']))\\\n",
    ".filter(col(\"stop_id\") != col(\"prev_stop_id\"))\\\n",
    ".filter(col(\"stop_name\") != col(\"prev_stop_name\"))\\\n",
    ".withColumn(\"rank\", dense_rank().over(Window.partitionBy().orderBy(col(\"harvesine_distance\").asc_nulls_last())))\\\n",
    ".drop(\"trip_id\")\\\n",
    ".distinct()\\\n",
    ".orderBy(\"rank\")\\\n",
    ".cache() "
   ]
  },
  {
   "cell_type": "code",
   "execution_count": 85,
   "id": "da8d4c5e-0ce7-4825-a11d-1c152bfc1911",
   "metadata": {},
   "outputs": [
    {
     "name": "stdout",
     "output_type": "stream",
     "text": [
      "+-------+----------------+-------------+--------------------+--------+--------+--------------------+-------------------+------------+--------------------+----+\n",
      "|stop_id|route_short_name|stop_sequence|           stop_name|stop_lat|stop_lon|            stop_url| harvesine_distance|prev_stop_id|      prev_stop_name|rank|\n",
      "+-------+----------------+-------------+--------------------+--------+--------+--------------------+-------------------+------------+--------------------+----+\n",
      "|   1268|              51|           55|PLAZA DE LA ESTAC...|  28.477|-16.4149|http://www.titsa....|0.09190668495685285|        1949|             CAPITOL|  60|\n",
      "|   1933|              51|           38|             EL LOMO| 28.5209|-16.3843|http://www.titsa....|0.12539393267211138|        1932|                MOYA| 157|\n",
      "|   1275|              51|           72|          EL PÚLPITO|   28.49|-16.3487|http://www.titsa....|0.16595716527513532|        2586|    TITSA LOS RODEOS| 403|\n",
      "|   2156|              51|           14|               FARIA|  28.517|-16.3136|http://www.titsa....|0.17762650487212148|        2155|           LAS LAJAS| 485|\n",
      "|   2154|              51|           12|       JESÚS JIMÉNEZ| 28.5152|-16.3095|http://www.titsa....| 0.1776278240987246|        1298|        LA GORGOLANA| 487|\n",
      "|   1927|              51|           32|           INSTITUTO| 28.5336|-16.3654|http://www.titsa....|0.18858243996272553|        1926| FELIPE CASTILLO (T)| 562|\n",
      "|   1944|              51|           49|MERCADO DEL AGRIC...| 28.4991|-16.4073|http://www.titsa....|0.19060889636241155|        1943|    SAN JUAN PERALES| 576|\n",
      "|   1311|              51|           29|       EL CEMENTERIO| 28.5319|-16.3595|http://www.titsa....|0.21127035247241632|        1310|         PATA RAJADA| 737|\n",
      "|   2582|              51|           77|        COROMOTO (T)| 28.4866|-16.3246|http://www.titsa....|0.22776052361142185|        2409|         SAN ANTONIO| 901|\n",
      "|   2586|              51|           71|    TITSA LOS RODEOS| 28.4895|-16.3503|http://www.titsa....|0.22913622930427033|        1242|   EL PORTEZUELO (T)| 930|\n",
      "|   1234|              51|           62|  LOS NARANJEROS (T)| 28.4865|-16.3899|http://www.titsa....|0.24231371447885516|        1274|        NUEVO LAUREL|1050|\n",
      "|   2160|              51|           18|       LOS BARRIALES| 28.5186|-16.3232|http://www.titsa....| 0.2482730480593182|        2159|        CAMINO HONDO|1109|\n",
      "|   2158|              51|           16|   PEDRO ÁLVAREZ (T)| 28.5215|-16.3172|http://www.titsa....| 0.2539621606857258|        2157|         LAS PITERAS|1159|\n",
      "|   1307|              51|           25|         TAMARCO (T)| 28.5246|-16.3515|http://www.titsa....|0.25634657618185536|        1306|          EL SOCORRO|1189|\n",
      "|   1940|              51|           45|       PRESAS OCAMPO| 28.5097|-16.4003|http://www.titsa....| 0.2654111135868514|        1939|         FIELATO (T)|1292|\n",
      "|   1310|              51|           28|         PATA RAJADA|   28.53|-16.3595|http://www.titsa....|0.28155765603293764|        1309|          LA ASOMADA|1444|\n",
      "|   1926|              51|           31| FELIPE CASTILLO (T)| 28.5339|-16.3635|http://www.titsa....| 0.2852537471646371|        1312|TOMÁS GONZÁLEZ RI...|1472|\n",
      "|   2155|              51|           13|           LAS LAJAS| 28.5158|-16.3124|http://www.titsa....|  0.291095031351478|        2154|       JESÚS JIMÉNEZ|1523|\n",
      "|   1931|              51|           36|          LA HERREÑA| 28.5246|-16.3792|http://www.titsa....| 0.2912820864951949|        1930|         LA AGRÍCOLA|1525|\n",
      "|   1938|              51|           43|             PARAISO| 28.5122|-16.3939|http://www.titsa....|0.30081953590894084|        1937|            LA CARTA|1614|\n",
      "+-------+----------------+-------------+--------------------+--------+--------+--------------------+-------------------+------------+--------------------+----+\n",
      "only showing top 20 rows\n",
      "\n"
     ]
    }
   ],
   "source": [
    "ranked_results.filter(col(\"route_short_name\") == \"51\").show()"
   ]
  },
  {
   "cell_type": "code",
   "execution_count": null,
   "id": "4fe8f946-c1ad-4fa4-8d7d-4802cbc817c3",
   "metadata": {},
   "outputs": [],
   "source": []
  }
 ],
 "metadata": {
  "kernelspec": {
   "display_name": "Python 3 (ipykernel)",
   "language": "python",
   "name": "python3"
  },
  "language_info": {
   "codemirror_mode": {
    "name": "ipython",
    "version": 3
   },
   "file_extension": ".py",
   "mimetype": "text/x-python",
   "name": "python",
   "nbconvert_exporter": "python",
   "pygments_lexer": "ipython3",
   "version": "3.9.10"
  }
 },
 "nbformat": 4,
 "nbformat_minor": 5
}
