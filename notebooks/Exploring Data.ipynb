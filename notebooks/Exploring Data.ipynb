{
 "cells": [
  {
   "cell_type": "code",
   "execution_count": 1,
   "id": "c907e02f-9ac7-4baa-acda-a19c15ee0b94",
   "metadata": {},
   "outputs": [],
   "source": [
    "import os\n",
    "import sys\n",
    "module_path = os.path.abspath(os.path.join('..'))\n",
    "if module_path not in sys.path:\n",
    "    sys.path.append(module_path)"
   ]
  },
  {
   "cell_type": "code",
   "execution_count": 46,
   "id": "eb3019e0-4610-4c57-9113-388bb3f6ebc7",
   "metadata": {},
   "outputs": [],
   "source": [
    "from pyspark.sql.functions import col, acos, cos, sin, lit, radians, lag, dense_rank, count_distinct, sum, first, collect_list\n",
    "from pyspark.sql import SparkSession, DataFrame\n",
    "from pyspark.sql.types import StructType\n",
    "from pyspark.sql.window import Window"
   ]
  },
  {
   "cell_type": "code",
   "execution_count": 3,
   "id": "17f6e8a2-7a0c-4715-9c54-35637a7918f6",
   "metadata": {},
   "outputs": [],
   "source": [
    "from schemas import agency, calendar_dates, stop_times, routes, trips, stops"
   ]
  },
  {
   "cell_type": "code",
   "execution_count": 4,
   "id": "295b74ae-b159-496b-87ac-402225951fa6",
   "metadata": {},
   "outputs": [],
   "source": [
    "def read_file(path: str, spark: SparkSession, schema: StructType) -> DataFrame:\n",
    "    return spark.read.csv(path, schema=schema, header=True)"
   ]
  },
  {
   "cell_type": "code",
   "execution_count": 5,
   "id": "00267b3e-8a9e-4eea-8b8e-b73b18f61d80",
   "metadata": {},
   "outputs": [],
   "source": [
    "spark =  SparkSession.builder \\\n",
    "    .master(\"local\") \\\n",
    "    .appName(\"Titsa Explorer\") \\\n",
    "    .getOrCreate()"
   ]
  },
  {
   "cell_type": "code",
   "execution_count": 6,
   "id": "5e972d2f-cab4-485d-bef1-83a2ab42dcfd",
   "metadata": {},
   "outputs": [],
   "source": [
    "calendar_df = read_file('../data/calendar_dates.txt', spark, calendar_dates.schema)"
   ]
  },
  {
   "cell_type": "code",
   "execution_count": 7,
   "id": "ba234ff9-e807-4feb-b567-86aab012a76e",
   "metadata": {},
   "outputs": [],
   "source": [
    "stop_times_df = read_file('../data/stop_times.txt', spark, stop_times.schema)"
   ]
  },
  {
   "cell_type": "code",
   "execution_count": 8,
   "id": "8b3b6fd9-1e6f-454d-8f34-139b9a69276d",
   "metadata": {},
   "outputs": [],
   "source": [
    "stops_df = read_file('../data/stops.txt', spark, stops.schema)"
   ]
  },
  {
   "cell_type": "code",
   "execution_count": 9,
   "id": "8f027c64-a89f-4742-b707-03dcebb82508",
   "metadata": {},
   "outputs": [],
   "source": [
    "trips_df = read_file('../data/trips.txt', spark, trips.schema)"
   ]
  },
  {
   "cell_type": "code",
   "execution_count": 10,
   "id": "90fbec27-954e-4973-8f41-c918fe1f11b7",
   "metadata": {},
   "outputs": [],
   "source": [
    "routes_df = read_file('../data/routes.txt', spark, routes.schema)"
   ]
  },
  {
   "cell_type": "code",
   "execution_count": 11,
   "id": "e868d54f-2f02-47fc-a550-79f85b1629dd",
   "metadata": {},
   "outputs": [],
   "source": [
    "active_services_df = calendar_df.filter(col(calendar_dates.date) == \"20220318\").select(calendar_dates.service_id)"
   ]
  },
  {
   "cell_type": "code",
   "execution_count": 12,
   "id": "7b3f577d-545b-4098-96e1-35f7a593d0aa",
   "metadata": {},
   "outputs": [],
   "source": [
    "routes_related_stops = stop_times_df\\\n",
    ".join(trips_df, [trips.trip_id])\\\n",
    ".join(active_services_df, [trips.service_id])\\\n",
    ".join(routes_df, [routes.route_id])\\\n",
    ".select(\n",
    "    stop_times.trip_id,\n",
    "    routes.route_short_name,\n",
    "    stop_times.stop_id,\n",
    "    stop_times.stop_sequence\n",
    ").distinct()"
   ]
  },
  {
   "cell_type": "code",
   "execution_count": 13,
   "id": "11132cf8-4baf-41d9-8653-4bd7d487f3a2",
   "metadata": {},
   "outputs": [],
   "source": [
    "def harvesine_distance(long_x, lat_x, long_y, lat_y):\n",
    "    return acos(\n",
    "        sin(radians(lat_x)) * sin(radians(lat_y)) + \n",
    "        cos(radians(lat_x)) * cos(radians(lat_y)) * \n",
    "            cos(radians(long_x) - radians(long_y))\n",
    "    ) * lit(6371.0)"
   ]
  },
  {
   "cell_type": "code",
   "execution_count": 14,
   "id": "ff197aa6-d2c8-4b01-8fc5-a013d1bf2bcb",
   "metadata": {},
   "outputs": [],
   "source": [
    "harvesine_dist = \"harvesine_dist\"\n",
    "prev_stop_id = \"prev_stop_id\"\n",
    "prev_stop_name = \"prev_stop_name\""
   ]
  },
  {
   "cell_type": "code",
   "execution_count": 15,
   "id": "00ea1fda-f31a-4ace-be10-0f8a3dbddc2d",
   "metadata": {},
   "outputs": [],
   "source": [
    "def calculate_distance_to_previous_stop(df: DataFrame) -> DataFrame:\n",
    "    w = Window.partitionBy(stop_times.trip_id).orderBy(stop_times.stop_sequence)\n",
    "    \n",
    "    return df.withColumn(harvesine_dist, harvesine_distance(\n",
    "        stops.stop_lon,\n",
    "        stops.stop_lat,\n",
    "        lag(stops.stop_lon, 1).over(w),\n",
    "        lag(stops.stop_lat, 1).over(w)\n",
    "    ))\\\n",
    "    .withColumn(prev_stop_id, lag(stops.stop_id, 1).over(w))\\\n",
    "    .withColumn(prev_stop_name, lag(stops.stop_name, 1).over(w))"
   ]
  },
  {
   "cell_type": "code",
   "execution_count": 16,
   "id": "a2641722-aa43-4f17-b8c9-5b3e66060a77",
   "metadata": {},
   "outputs": [],
   "source": [
    "ranked_results = calculate_distance_to_previous_stop(routes_related_stops\\\n",
    ".join(stops_df, [stops.stop_id]))\\\n",
    ".filter(col(stops.stop_id) != col(prev_stop_id))\\\n",
    ".filter(col(stops.stop_name) != col(prev_stop_name))\\\n",
    ".withColumn(\"rank\", dense_rank().over(Window.partitionBy().orderBy(col(harvesine_dist).asc_nulls_last())))\\\n",
    ".drop(trips.trip_id)\\\n",
    ".distinct()\\\n",
    ".orderBy(\"rank\")\\\n",
    ".cache() "
   ]
  },
  {
   "cell_type": "code",
   "execution_count": 17,
   "id": "da8d4c5e-0ce7-4825-a11d-1c152bfc1911",
   "metadata": {},
   "outputs": [
    {
     "name": "stdout",
     "output_type": "stream",
     "text": [
      "+-------+----------------+-------------+--------------------+--------+--------+--------------------+-------------------+------------+--------------------+----+\n",
      "|stop_id|route_short_name|stop_sequence|           stop_name|stop_lat|stop_lon|            stop_url|     harvesine_dist|prev_stop_id|      prev_stop_name|rank|\n",
      "+-------+----------------+-------------+--------------------+--------+--------+--------------------+-------------------+------------+--------------------+----+\n",
      "|   1268|              51|           55|PLAZA DE LA ESTAC...|  28.477|-16.4149|http://www.titsa....|0.09190668495685285|        1949|             CAPITOL|  66|\n",
      "|   1933|              51|           38|             EL LOMO| 28.5209|-16.3843|http://www.titsa....|0.12539393267211138|        1932|                MOYA| 168|\n",
      "|   1275|              51|           72|          EL PÚLPITO|   28.49|-16.3487|http://www.titsa....|0.16595716527513532|        2586|    TITSA LOS RODEOS| 439|\n",
      "|   2156|              51|           14|               FARIA|  28.517|-16.3136|http://www.titsa....|0.17762650487212148|        2155|           LAS LAJAS| 528|\n",
      "|   2154|              51|           12|       JESÚS JIMÉNEZ| 28.5152|-16.3095|http://www.titsa....| 0.1776278240987246|        1298|        LA GORGOLANA| 530|\n",
      "|   1927|              51|           32|           INSTITUTO| 28.5336|-16.3654|http://www.titsa....|0.18858243996272553|        1926| FELIPE CASTILLO (T)| 610|\n",
      "|   1944|              51|           49|MERCADO DEL AGRIC...| 28.4991|-16.4073|http://www.titsa....|0.19060889636241155|        1943|    SAN JUAN PERALES| 625|\n",
      "|   1290|              51|            4|          SAN BENITO| 28.4899|-16.3266|http://www.titsa....|0.20849297980528714|        1723|AVENIDA LA CANDEL...| 781|\n",
      "|   1311|              51|           29|       EL CEMENTERIO| 28.5319|-16.3595|http://www.titsa....|0.21127035247241632|        1310|         PATA RAJADA| 800|\n",
      "|   1935|              51|           40|        VALLE GUERRA| 28.5165|-16.3918|http://www.titsa....| 0.2147038111382205|        1934|      EL ROSARIO (T)| 836|\n",
      "|   2582|              51|           77|        COROMOTO (T)| 28.4866|-16.3246|http://www.titsa....|0.22776052361142185|        2409|         SAN ANTONIO| 981|\n",
      "|   2586|              51|           71|    TITSA LOS RODEOS| 28.4895|-16.3503|http://www.titsa....|0.22913622930427033|        1242|   EL PORTEZUELO (T)|1009|\n",
      "|   1234|              51|           62|  LOS NARANJEROS (T)| 28.4865|-16.3899|http://www.titsa....|0.24231371447885516|        1274|        NUEVO LAUREL|1137|\n",
      "|   2160|              51|           18|       LOS BARRIALES| 28.5186|-16.3232|http://www.titsa....| 0.2482730480593182|        2159|        CAMINO HONDO|1202|\n",
      "|   2158|              51|           16|   PEDRO ÁLVAREZ (T)| 28.5215|-16.3172|http://www.titsa....| 0.2539621606857258|        2157|         LAS PITERAS|1255|\n",
      "|   1307|              51|           25|         TAMARCO (T)| 28.5246|-16.3515|http://www.titsa....|0.25634657618185536|        1306|          EL SOCORRO|1287|\n",
      "|   1940|              51|           45|       PRESAS OCAMPO| 28.5097|-16.4003|http://www.titsa....| 0.2654111135868514|        1939|         FIELATO (T)|1397|\n",
      "|   1312|              51|           30|TOMÁS GONZÁLEZ RI...| 28.5342|-16.3606|http://www.titsa....|0.27740672380892994|        1311|       EL CEMENTERIO|1515|\n",
      "|   1310|              51|           28|         PATA RAJADA|   28.53|-16.3595|http://www.titsa....|0.28155765603293764|        1309|          LA ASOMADA|1559|\n",
      "|   1242|              51|           70|   EL PORTEZUELO (T)| 28.4899|-16.3526|http://www.titsa....| 0.2844961731524787|        1241|        MOLINO VIEJO|1583|\n",
      "+-------+----------------+-------------+--------------------+--------+--------+--------------------+-------------------+------------+--------------------+----+\n",
      "only showing top 20 rows\n",
      "\n"
     ]
    }
   ],
   "source": [
    "ranked_results.filter(col(routes.route_short_name) == \"51\").show()"
   ]
  },
  {
   "cell_type": "markdown",
   "id": "b295f7ce-5dd1-4d96-ab8b-f2a7408c17b3",
   "metadata": {},
   "source": [
    "# Most lines on the same stop"
   ]
  },
  {
   "cell_type": "code",
   "execution_count": 18,
   "id": "f8fdbaaf-baab-4d77-ac9c-1b7567e8bc69",
   "metadata": {},
   "outputs": [],
   "source": [
    "stop_times_routes = stop_times_df\\\n",
    ".join(trips_df, [trips.trip_id])\\\n",
    ".join(active_services_df, [trips.service_id])\\\n",
    ".join(routes_df, [routes.route_id])\\\n",
    ".cache()"
   ]
  },
  {
   "cell_type": "code",
   "execution_count": 28,
   "id": "415977d6-caac-43ec-a329-9f7d66847709",
   "metadata": {},
   "outputs": [],
   "source": [
    "diff_routes = \"diff_routes\"\n",
    "\n",
    "top_routes = stop_times_routes\\\n",
    ".groupBy(stops.stop_id)\\\n",
    ".agg(\n",
    "    count_distinct(col(routes.route_id)).alias(diff_routes)\n",
    "    )"
   ]
  },
  {
   "cell_type": "code",
   "execution_count": 52,
   "id": "7fcb1826-627f-472e-8355-e9c4a8b4cf51",
   "metadata": {},
   "outputs": [
    {
     "name": "stdout",
     "output_type": "stream",
     "text": [
      "+-------+-------------------------+-----------+\n",
      "|stop_id|stop_name                |diff_routes|\n",
      "+-------+-------------------------+-----------+\n",
      "|9181   |INTERCAMBIADOR STA.CRUZ  |44         |\n",
      "|2625   |INTERCAMBIADOR LAGUNA (T)|36         |\n",
      "|9413   |MERIDIANO                |25         |\n",
      "|9450   |INTERCAMBIADOR STA.CRUZ  |23         |\n",
      "|2582   |COROMOTO (T)             |22         |\n",
      "|2549   |LEOCADIO MACHADO         |22         |\n",
      "|2692   |FRANCISCO SÁNCHEZ (T)    |21         |\n",
      "|1290   |SAN BENITO               |19         |\n",
      "|9213   |JOSÉ HERNÁNDEZ ALFONSO   |19         |\n",
      "|9449   |INTERCAMBIADOR STA.CRUZ  |19         |\n",
      "|9385   |EL CORTE INGLÉS          |18         |\n",
      "|7140   |LOS CRISTIANOS  (T)      |18         |\n",
      "|1723   |AVENIDA LA CANDELARIA    |18         |\n",
      "|2409   |SAN ANTONIO              |18         |\n",
      "|9387   |PARQUE DE BOMBEROS       |16         |\n",
      "|9386   |TRES DE MAYO             |16         |\n",
      "|7255   |GRANADILLA (T)           |15         |\n",
      "|9296   |SAN SEBASTIÁN            |15         |\n",
      "|2521   |FRAY LUIS DE GRANADA     |14         |\n",
      "|5090   |PUERTO DE LA CRUZ        |14         |\n",
      "+-------+-------------------------+-----------+\n",
      "only showing top 20 rows\n",
      "\n"
     ]
    }
   ],
   "source": [
    "top_routes\\\n",
    ".join(stops_df, [stops.stop_id])\\\n",
    ".select(\n",
    "    stops.stop_id,\n",
    "    stops.stop_name,\n",
    "    diff_routes\n",
    ")\\\n",
    ".orderBy(col(diff_routes).desc())\\\n",
    ".show(truncate = False)"
   ]
  },
  {
   "cell_type": "code",
   "execution_count": 50,
   "id": "46db6077-0511-4d15-8519-68942be2cef0",
   "metadata": {},
   "outputs": [
    {
     "name": "stdout",
     "output_type": "stream",
     "text": [
      "+----------------+------------------------------------------------------------------------------------------------+----------+\n",
      "|stop_name       |stop_id                                                                                         |diff_stops|\n",
      "+----------------+------------------------------------------------------------------------------------------------+----------+\n",
      "|CEMENTERIO      |[1137, 1141, 1204, 1225, 1376, 4074, 4124, 4926, 5027, 5029, 7076, 7095, 7256, 7362, 9105, 9106]|16        |\n",
      "|CENTRO DE SALUD |[1219, 1883, 1924, 1928, 2587, 2789, 7257, 7361, 7364, 7382, 7455, 9409]                        |12        |\n",
      "|EL PINO         |[1636, 1647, 2130, 2145, 2314, 2704, 4957, 7577, 7603, 7735, 7782]                              |11        |\n",
      "|EL CALVARIO     |[1203, 1226, 1258, 1259, 4016, 4035, 4217, 4356, 4359, 4739]                                    |10        |\n",
      "|EL MOLINO       |[1519, 1571, 1971, 1977, 2573, 2574, 4301, 4308, 4642]                                          |9         |\n",
      "|CAMPO DE FUTBOL |[1622, 1628, 2128, 2147, 4389, 4533, 9362, 9370]                                                |8         |\n",
      "|LAS TOSCAS      |[1206, 1223, 1305, 1350, 1765, 2310, 4728, 4733]                                                |8         |\n",
      "|EL POZO         |[1861, 1866, 7004, 7044, 7262, 7356, 7474, 7496]                                                |8         |\n",
      "|LA ASOMADA      |[1309, 1346, 4093, 4103, 4912, 4916, 7396, 7437]                                                |8         |\n",
      "|EL SOCORRO      |[1306, 1349, 1777, 1802, 4331, 4384, 8094, 8212]                                                |8         |\n",
      "|EL PUENTE       |[1313, 1341, 1790, 1792, 2613, 7363, 7383]                                                      |7         |\n",
      "|SAN ANTONIO     |[1288, 2409, 4058, 4138, 4579, 4629, 4844]                                                      |7         |\n",
      "|LOS LLANOS      |[1855, 1872, 4603, 4604, 7633, 7946, 8205]                                                      |7         |\n",
      "|SAN JOSÉ        |[2129, 2146, 4030, 4203, 4413, 4509, 5188]                                                      |7         |\n",
      "|CENTRO COMERCIAL|[1153, 1157, 1775, 1974, 5022, 5025]                                                            |6         |\n",
      "|COOPERATIVA     |[4196, 4201, 4681, 4684, 7393, 7440]                                                            |6         |\n",
      "|CORREOS         |[1247, 1270, 7226, 7229, 7477, 7493]                                                            |6         |\n",
      "|EL HOYO         |[1682, 1688, 4674, 4691, 7538, 7540]                                                            |6         |\n",
      "|CUATRO CAMINOS  |[1524, 1565, 1980, 2006, 4764, 4774]                                                            |6         |\n",
      "|LA HOYA         |[1322, 1332, 1579, 1619, 1631, 2810]                                                            |6         |\n",
      "+----------------+------------------------------------------------------------------------------------------------+----------+\n",
      "only showing top 20 rows\n",
      "\n"
     ]
    }
   ],
   "source": [
    "top_routes\\\n",
    ".join(stops_df, [stops.stop_id])\\\n",
    ".select(\n",
    "    stops.stop_id,\n",
    "    stops.stop_name,\n",
    "    diff_routes\n",
    ")\\\n",
    ".groupBy(stops.stop_name)\\\n",
    ".agg(\n",
    "    collect_list(stops.stop_id).alias(stops.stop_id),\n",
    "    count_distinct(col(stops.stop_id)).alias(\"diff_stops\")\n",
    ")\\\n",
    ".orderBy(col(\"diff_stops\").desc())\\\n",
    ".show(truncate = False)"
   ]
  },
  {
   "cell_type": "code",
   "execution_count": null,
   "id": "0f194a59-f552-4e6a-9c0b-7bfb14c59fff",
   "metadata": {},
   "outputs": [],
   "source": []
  }
 ],
 "metadata": {
  "kernelspec": {
   "display_name": "Python 3 (ipykernel)",
   "language": "python",
   "name": "python3"
  },
  "language_info": {
   "codemirror_mode": {
    "name": "ipython",
    "version": 3
   },
   "file_extension": ".py",
   "mimetype": "text/x-python",
   "name": "python",
   "nbconvert_exporter": "python",
   "pygments_lexer": "ipython3",
   "version": "3.9.10"
  }
 },
 "nbformat": 4,
 "nbformat_minor": 5
}
